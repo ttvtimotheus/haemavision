{
 "cells": [
  {
   "cell_type": "markdown",
   "metadata": {},
   "source": [
    "# HaemaVision - Data Preprocessing and Dataloader\n",
    "\n",
    "This notebook implements the preprocessing pipeline and dataloaders for the blood cell classification project."
   ]
  },
  {
   "cell_type": "code",
   "execution_count": null,
   "metadata": {},
   "source": [
    "import os\n",
    "import numpy as np\n",
    "import matplotlib.pyplot as plt\n",
    "import torch\n",
    "from torch.utils.data import DataLoader, random_split\n",
    "from torchvision import datasets, transforms\n",
    "import pandas as pd\n",
    "from PIL import Image"
   ]
  },
  {
   "cell_type": "markdown",
   "metadata": {},
   "source": [
    "## Set up Constants"
   ]
  },
  {
   "cell_type": "code",
   "execution_count": null,
   "metadata": {},
   "source": [
    "# Set random seed for reproducibility\n",
    "SEED = 42\n",
    "torch.manual_seed(SEED)\n",
    "np.random.seed(SEED)\n",
    "\n",
    "# Define paths\n",
    "DATA_DIR = \"../data\"\n",
    "MODEL_DIR = \"../models\"\n",
    "os.makedirs(MODEL_DIR, exist_ok=True)\n",
    "\n",
    "# Define image parameters\n",
    "IMG_SIZE = 128  # Target image size (square)\n",
    "BATCH_SIZE = 32\n",
    "VAL_SPLIT = 0.2  # 20% for validation\n",
    "\n",
    "# Get class names\n",
    "class_names = [d for d in os.listdir(DATA_DIR) if os.path.isdir(os.path.join(DATA_DIR, d))]\n",
    "NUM_CLASSES = len(class_names)\n",
    "print(f\"Found {NUM_CLASSES} classes: {class_names}\")"
   ]
  },
  {
   "cell_type": "markdown",
   "metadata": {},
   "source": [
    "## Define Transforms\n",
    "\n",
    "We'll define two sets of transforms:\n",
    "1. Training transforms with data augmentation\n",
    "2. Validation transforms with just resizing and normalization"
   ]
  },
  {
   "cell_type": "code",
   "execution_count": null,
   "metadata": {},
   "source": [
    "# Define transforms for training (with augmentation)\n",
    "train_transforms = transforms.Compose([\n",
    "    transforms.Resize((IMG_SIZE, IMG_SIZE)),  # Resize image\n",
    "    transforms.RandomHorizontalFlip(p=0.5),    # Horizontal flip with 50% probability\n",
    "    transforms.RandomVerticalFlip(p=0.5),      # Vertical flip with 50% probability\n",
    "    transforms.RandomRotation(20),             # Random rotation up to 20 degrees\n",
    "    transforms.ColorJitter(brightness=0.2, contrast=0.2),  # Randomly change brightness/contrast\n",
    "    transforms.ToTensor(),                    # Convert to tensor\n",
    "    transforms.Normalize(mean=[0.485, 0.456, 0.406],  # ImageNet normalization\n",
    "                         std=[0.229, 0.224, 0.225])\n",
    "])\n",
    "\n",
    "# Define transforms for validation (no augmentation)\n",
    "val_transforms = transforms.Compose([\n",
    "    transforms.Resize((IMG_SIZE, IMG_SIZE)),  # Resize image\n",
    "    transforms.ToTensor(),                    # Convert to tensor\n",
    "    transforms.Normalize(mean=[0.485, 0.456, 0.406],  # ImageNet normalization\n",
    "                         std=[0.229, 0.224, 0.225])\n",
    "])"
   ]
  },
  {
   "cell_type": "markdown",
   "metadata": {},
   "source": [
    "## Dataset Creation\n",
    "\n",
    "Using TorchVision's ImageFolder to load the dataset"
   ]
  },
  {
   "cell_type": "code",
   "execution_count": null,
   "metadata": {},
   "source": [
    "# Create dataset with training transforms\n",
    "full_dataset = datasets.ImageFolder(root=DATA_DIR, transform=train_transforms)\n",
    "print(f\"Total samples: {len(full_dataset)}\")\n",
    "\n",
    "# Get class to index mapping\n",
    "class_to_idx = full_dataset.class_to_idx\n",
    "idx_to_class = {v: k for k, v in class_to_idx.items()}\n",
    "print(\"Class to Index Mapping:\")\n",
    "for class_name, idx in class_to_idx.items():\n",
    "    print(f\"{class_name}: {idx}\")"
   ]
  },
  {
   "cell_type": "markdown",
   "metadata": {},
   "source": [
    "## Train-Validation Split"
   ]
  },
  {
   "cell_type": "code",
   "execution_count": null,
   "metadata": {},
   "source": [
    "# Calculate sizes for train and validation sets\n",
    "val_size = int(VAL_SPLIT * len(full_dataset))\n",
    "train_size = len(full_dataset) - val_size\n",
    "\n",
    "# Create train and validation splits\n",
    "train_dataset, val_dataset = random_split(\n",
    "    full_dataset, \n",
    "    [train_size, val_size],\n",
    "    generator=torch.Generator().manual_seed(SEED)\n",
    ")\n",
    "\n",
    "# Create a validation dataset with validation transforms\n",
    "# This applies the validation transforms to the validation split\n",
    "val_dataset_with_transforms = datasets.ImageFolder(\n",
    "    root=DATA_DIR,\n",
    "    transform=val_transforms\n",
    ")\n",
    "\n",
    "# Use the same indices as the validation split\n",
    "val_dataset_with_transforms.samples = [full_dataset.samples[i] for i in val_dataset.indices]\n",
    "val_dataset_with_transforms.targets = [full_dataset.targets[i] for i in val_dataset.indices]\n",
    "\n",
    "print(f\"Training samples: {len(train_dataset)}\")\n",
    "print(f\"Validation samples: {len(val_dataset_with_transforms)}\")"
   ]
  },
  {
   "cell_type": "markdown",
   "metadata": {},
   "source": [
    "## Create DataLoaders"
   ]
  },
  {
   "cell_type": "code",
   "execution_count": null,
   "metadata": {},
   "source": [
    "# Create DataLoaders\n",
    "train_loader = DataLoader(\n",
    "    train_dataset,\n",
    "    batch_size=BATCH_SIZE,\n",
    "    shuffle=True,\n",
    "    num_workers=4,\n",
    "    pin_memory=True if torch.cuda.is_available() else False\n",
    ")\n",
    "\n",
    "val_loader = DataLoader(\n",
    "    val_dataset_with_transforms,\n",
    "    batch_size=BATCH_SIZE,\n",
    "    shuffle=False,\n",
    "    num_workers=4,\n",
    "    pin_memory=True if torch.cuda.is_available() else False\n",
    ")"
   ]
  },
  {
   "cell_type": "markdown",
   "metadata": {},
   "source": [
    "## Visualize Transformed Images\n",
    "\n",
    "Let's check how our transformations affect the images"
   ]
  },
  {
   "cell_type": "code",
   "execution_count": null,
   "metadata": {},
   "source": [
    "def denormalize(tensor):\n",
    "    \"\"\"Denormalize a tensor image with mean and std for ImageNet\"\"\"\n",
    "    mean = torch.tensor([0.485, 0.456, 0.406]).reshape(3, 1, 1)\n",
    "    std = torch.tensor([0.229, 0.224, 0.225]).reshape(3, 1, 1)\n",
    "    return tensor * std + mean\n",
    "\n",
    "def show_transformed_images(dataset, num_images=5):\n",
    "    \"\"\"Display sample transformed images from the dataset\"\"\"\n",
    "    fig, axes = plt.subplots(1, num_images, figsize=(15, 3))\n",
    "    \n",
    "    for i in range(num_images):\n",
    "        # Get a random sample\n",
    "        idx = np.random.randint(0, len(dataset))\n",
    "        img, label = dataset[idx]\n",
    "        \n",
    "        # Denormalize and convert to numpy for displaying\n",
    "        img = denormalize(img)\n",
    "        img = img.permute(1, 2, 0).numpy()\n",
    "        img = np.clip(img, 0, 1)\n",
    "        \n",
    "        # Get the class name\n",
    "        class_name = idx_to_class[label]\n",
    "        \n",
    "        # Display\n",
    "        axes[i].imshow(img)\n",
    "        axes[i].set_title(f\"{class_name}\")\n",
    "        axes[i].axis('off')\n",
    "    \n",
    "    plt.tight_layout()\n",
    "    plt.show()\n",
    "\n",
    "# Show transformed training images\n",
    "print(\"Training images (with augmentation):\")\n",
    "show_transformed_images(train_dataset)\n",
    "\n",
    "# Show transformed validation images\n",
    "print(\"Validation images:\")\n",
    "show_transformed_images(val_dataset_with_transforms)"
   ]
  },
  {
   "cell_type": "markdown",
   "metadata": {},
   "source": [
    "## Save Configuration\n",
    "\n",
    "Let's save important configuration details for use in training and inference scripts."
   ]
  },
  {
   "cell_type": "code",
   "execution_count": null,
   "metadata": {},
   "source": [
    "import json\n",
    "\n",
    "# Define configuration\n",
    "config = {\n",
    "    \"img_size\": IMG_SIZE,\n",
    "    \"batch_size\": BATCH_SIZE,\n",
    "    \"num_classes\": NUM_CLASSES,\n",
    "    \"class_names\": class_names,\n",
    "    \"class_to_idx\": class_to_idx,\n",
    "    \"normalization\": {\n",
    "        \"mean\": [0.485, 0.456, 0.406],\n",
    "        \"std\": [0.229, 0.224, 0.225]\n",
    "    }\n",
    "}\n",
    "\n",
    "# Save configuration\n",
    "with open(os.path.join(MODEL_DIR, \"config.json\"), \"w\") as f:\n",
    "    json.dump(config, f, indent=4)\n",
    "\n",
    "print(f\"Configuration saved to {os.path.join(MODEL_DIR, 'config.json')}\")"
   ]
  },
  {
   "cell_type": "markdown",
   "metadata": {},
   "source": [
    "## Next Steps\n",
    "\n",
    "Now that we have our data preprocessing pipeline and dataloaders set up, we can proceed to:\n",
    "\n",
    "1. Define the CNN model architecture\n",
    "2. Write the training script\n",
    "3. Evaluate the model performance\n",
    "4. Export the trained model to ONNX format\n"
   ]
  }
 ],
 "metadata": {
  "kernelspec": {
   "display_name": "Python 3",
   "language": "python",
   "name": "python3"
  },
  "language_info": {
   "codemirror_mode": {
    "name": "ipython",
    "version": 3
   },
   "file_extension": ".py",
   "mimetype": "text/x-python",
   "name": "python",
   "nbconvert_exporter": "python",
   "pygments_lexer": "ipython3",
   "version": "3.9.0"
  }
 },
 "nbformat": 4,
 "nbformat_minor": 4
}
