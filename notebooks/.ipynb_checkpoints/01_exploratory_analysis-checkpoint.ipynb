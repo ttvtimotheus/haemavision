{
 "cells": [
  {
   "cell_type": "markdown",
   "metadata": {},
   "source": [
    "# HaemaVision - Exploratory Data Analysis\n",
    "\n",
    "This notebook explores the blood cell image dataset, analyzing class distribution, image sizes, and visualizing examples from each class."
   ]
  },
  {
   "cell_type": "code",
   "execution_count": null,
   "metadata": {},
   "source": [
    "import os\n",
    "import numpy as np\n",
    "import matplotlib.pyplot as plt\n",
    "import pandas as pd\n",
    "from PIL import Image\n",
    "import random\n",
    "from collections import Counter"
   ]
  },
  {
   "cell_type": "markdown",
   "metadata": {},
   "source": [
    "## Dataset Structure\n",
    "\n",
    "First, let's explore the dataset structure and count the number of images per class."
   ]
  },
  {
   "cell_type": "code",
   "execution_count": null,
   "metadata": {},
   "source": [
    "# Define the data directory path\n",
    "DATA_DIR = \"../data\"\n",
    "\n",
    "# Get all class folders\n",
    "class_folders = [f for f in os.listdir(DATA_DIR) if os.path.isdir(os.path.join(DATA_DIR, f))]\n",
    "print(f\"Found {len(class_folders)} classes: {class_folders}\")\n",
    "\n",
    "# Count images per class\n",
    "class_counts = {}\n",
    "for cls in class_folders:\n",
    "    class_path = os.path.join(DATA_DIR, cls)\n",
    "    images = [f for f in os.listdir(class_path) if f.endswith(('.png', '.jpg', '.jpeg'))]\n",
    "    class_counts[cls] = len(images)\n",
    "\n",
    "# Convert to DataFrame and display\n",
    "counts_df = pd.DataFrame(list(class_counts.items()), columns=['Class', 'Count'])\n",
    "counts_df = counts_df.sort_values('Count', ascending=False).reset_index(drop=True)\n",
    "print(f\"Total images: {counts_df['Count'].sum()}\")\n",
    "counts_df"
   ]
  },
  {
   "cell_type": "markdown",
   "metadata": {},
   "source": [
    "## Class Distribution Visualization"
   ]
  },
  {
   "cell_type": "code",
   "execution_count": null,
   "metadata": {},
   "source": [
    "# Plot class distribution\n",
    "plt.figure(figsize=(12, 6))\n",
    "plt.bar(counts_df['Class'], counts_df['Count'], color='skyblue')\n",
    "plt.title('Number of Images per Blood Cell Class', fontsize=15)\n",
    "plt.xlabel('Class', fontsize=12)\n",
    "plt.ylabel('Count', fontsize=12)\n",
    "plt.xticks(rotation=45)\n",
    "plt.grid(axis='y', linestyle='--', alpha=0.7)\n",
    "plt.tight_layout()\n",
    "\n",
    "# Calculate and display percentages\n",
    "total = counts_df['Count'].sum()\n",
    "percentages = counts_df.copy()\n",
    "percentages['Percentage'] = (percentages['Count'] / total * 100).round(2)\n",
    "percentages"
   ]
  },
  {
   "cell_type": "markdown",
   "metadata": {},
   "source": [
    "## Image Size Analysis\n",
    "\n",
    "Let's check the dimensions of images in each class to understand the variety of sizes."
   ]
  },
  {
   "cell_type": "code",
   "execution_count": null,
   "metadata": {},
   "source": [
    "def get_image_dimensions(folder):\n",
    "    \"\"\"Get dimensions of images in a folder\"\"\"\n",
    "    folder_path = os.path.join(DATA_DIR, folder)\n",
    "    images = [f for f in os.listdir(folder_path) if f.endswith(('.png', '.jpg', '.jpeg'))]\n",
    "    \n",
    "    # Sample up to 50 random images to avoid processing too many\n",
    "    sample_size = min(50, len(images))\n",
    "    sampled_images = random.sample(images, sample_size)\n",
    "    \n",
    "    dimensions = []\n",
    "    for img_file in sampled_images:\n",
    "        img_path = os.path.join(folder_path, img_file)\n",
    "        try:\n",
    "            with Image.open(img_path) as img:\n",
    "                dimensions.append(img.size)  # (width, height)\n",
    "        except Exception as e:\n",
    "            print(f\"Error processing {img_path}: {e}\")\n",
    "    \n",
    "    return dimensions\n",
    "\n",
    "# Collect dimensions from each class\n",
    "all_dimensions = {}\n",
    "for cls in class_folders:\n",
    "    all_dimensions[cls] = get_image_dimensions(cls)\n",
    "\n",
    "# Analyze dimensions\n",
    "dimension_stats = {}\n",
    "for cls, dims in all_dimensions.items():\n",
    "    if dims:\n",
    "        widths = [d[0] for d in dims]\n",
    "        heights = [d[1] for d in dims]\n",
    "        dimension_stats[cls] = {\n",
    "            'min_width': min(widths),\n",
    "            'max_width': max(widths),\n",
    "            'avg_width': sum(widths) / len(widths),\n",
    "            'min_height': min(heights),\n",
    "            'max_height': max(heights),\n",
    "            'avg_height': sum(heights) / len(heights),\n",
    "            'most_common': Counter(dims).most_common(1)[0][0]\n",
    "        }\n",
    "\n",
    "# Display statistics\n",
    "pd.DataFrame.from_dict(dimension_stats, orient='index')"
   ]
  },
  {
   "cell_type": "markdown",
   "metadata": {},
   "source": [
    "## Sample Image Visualization\n",
    "\n",
    "Let's visualize sample images from each class to understand what we're working with."
   ]
  },
  {
   "cell_type": "code",
   "execution_count": null,
   "metadata": {},
   "source": [
    "def display_sample_images(class_name, num_samples=5):\n",
    "    \"\"\"Display sample images from a specific class\"\"\"\n",
    "    folder_path = os.path.join(DATA_DIR, class_name)\n",
    "    images = [f for f in os.listdir(folder_path) if f.endswith(('.png', '.jpg', '.jpeg'))]\n",
    "    \n",
    "    if len(images) < num_samples:\n",
    "        num_samples = len(images)\n",
    "    \n",
    "    sample_images = random.sample(images, num_samples)\n",
    "    \n",
    "    plt.figure(figsize=(15, 3))\n",
    "    for i, img_file in enumerate(sample_images):\n",
    "        img_path = os.path.join(folder_path, img_file)\n",
    "        try:\n",
    "            img = Image.open(img_path)\n",
    "            plt.subplot(1, num_samples, i+1)\n",
    "            plt.imshow(img)\n",
    "            plt.axis('off')\n",
    "            plt.title(f\"{i+1}\")\n",
    "        except Exception as e:\n",
    "            print(f\"Error displaying {img_path}: {e}\")\n",
    "    \n",
    "    plt.suptitle(f\"Sample Images: {class_name}\", fontsize=16)\n",
    "    plt.tight_layout()\n",
    "    plt.show()"
   ]
  },
  {
   "cell_type": "code",
   "execution_count": null,
   "metadata": {},
   "source": [
    "# Display samples from each class\n",
    "for cls in class_folders:\n",
    "    display_sample_images(cls)"
   ]
  },
  {
   "cell_type": "markdown",
   "metadata": {},
   "source": [
    "## Summary and Observations\n",
    "\n",
    "Based on the exploration above, we can make the following observations:\n",
    "\n",
    "1. Class distribution: [to be filled after running]\n",
    "2. Image dimensions: [to be filled after running]\n",
    "3. Visual characteristics of different cell types: [to be filled after running]\n",
    "\n",
    "### Next Steps\n",
    "\n",
    "1. Preprocessing strategy:\n",
    "   - Resize all images to a consistent size (e.g., 128x128)\n",
    "   - Apply normalization\n",
    "   - Use data augmentation to balance classes if necessary\n",
    "\n",
    "2. Model considerations:\n",
    "   - Use a CNN architecture appropriate for this multi-class classification task\n",
    "   - Consider class weights if distribution is imbalanced"
   ]
  }
 ],
 "metadata": {
  "kernelspec": {
   "display_name": "Python 3",
   "language": "python",
   "name": "python3"
  },
  "language_info": {
   "codemirror_mode": {
    "name": "ipython",
    "version": 3
   },
   "file_extension": ".py",
   "mimetype": "text/x-python",
   "name": "python",
   "nbconvert_exporter": "python",
   "pygments_lexer": "ipython3",
   "version": "3.9.0"
  }
 },
 "nbformat": 4,
 "nbformat_minor": 4
}
